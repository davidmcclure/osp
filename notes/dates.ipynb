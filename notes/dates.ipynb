{
 "cells": [
  {
   "cell_type": "markdown",
   "metadata": {},
   "source": [
    "# Date counts\n",
    "---\n",
    "First, a basic look at the size of the data. We've got a total of **~1.2M** documents in the corpus:"
   ]
  },
  {
   "cell_type": "code",
   "execution_count": 35,
   "metadata": {
    "collapsed": false,
    "scrolled": true
   },
   "outputs": [
    {
     "name": "stdout",
     "output_type": "stream",
     "text": [
      "1177109\n"
     ]
    }
   ],
   "source": [
    "from osp.corpus.models.document import Document\n",
    "doc_count = Document.select().count()\n",
    "print(doc_count)"
   ]
  },
  {
   "cell_type": "markdown",
   "metadata": {},
   "source": [
    "### Internet Archive URL timestamps\n",
    "\n",
    "The first (and simplest) date extraction method we tried here was to just to pull out the timestamps from the Internet Archive URLs that record the date that the document was added to the archive. For example, if a syllabus was scraped from the Internet Archive, the URL will look like this:\n",
    "\n",
    "`https://web.archive.org/web/20150102030405/http://yale.edu/syllabus.html`\n",
    "\n",
    "We just pick out the timestamp (`20150102030405`) and parse the date. Obviously, this is an imperfect approach, since there will always be at least some lag between when the syllabus was created and when it was added to the archive. But, since there are a number of syllabi that have dates both from this method and at least one of the more accurate methods, we can get a sense of the average length of this lag time.\n",
    "\n",
    "We got **~850k** dates from these timestamps, or **72%** of the corpus:"
   ]
  },
  {
   "cell_type": "code",
   "execution_count": 50,
   "metadata": {
    "collapsed": false
   },
   "outputs": [
    {
     "name": "stdout",
     "output_type": "stream",
     "text": [
      "844759\n",
      "71.76557141267291\n"
     ]
    }
   ],
   "source": [
    "from osp.dates.models.archive_url import Document_Date_Archive_Url\n",
    "archive_url_count = Document_Date_Archive_Url.select().count()\n",
    "\n",
    "print(archive_url_count)\n",
    "print((archive_url_count / doc_count) * 100)"
   ]
  },
  {
   "cell_type": "markdown",
   "metadata": {},
   "source": [
    "### PDF and DOC file metadata\n",
    "\n",
    "Next, for PDF and DOC files, we just read out the \"created\" dates in the file metadata. This produced **~350k** dates from PDF and DOC file metadata creation dates, or **31%** of the corpus:"
   ]
  },
  {
   "cell_type": "code",
   "execution_count": 37,
   "metadata": {
    "collapsed": false,
    "scrolled": true
   },
   "outputs": [
    {
     "name": "stdout",
     "output_type": "stream",
     "text": [
      "364514\n",
      "30.966885819410095\n"
     ]
    }
   ],
   "source": [
    "from osp.dates.models.file_metadata import Document_Date_File_Metadata\n",
    "file_metadata_count = Document_Date_File_Metadata.select().count()\n",
    "\n",
    "print(file_metadata_count)\n",
    "print((file_metadata_count / doc_count) * 100)"
   ]
  },
  {
   "cell_type": "markdown",
   "metadata": {},
   "source": [
    "### Semster regular expressions\n",
    "\n",
    "Last, we tried to find patterns in the full text of the documents that looked like \"semester\" markers. We looked for  a number of different variants:\n",
    "\n",
    "- `Fall 2012`\n",
    "- `Spring 2012`\n",
    "- `Spring, 2012`\n",
    "- `Fall 12`\n",
    "- `Spring '12`\n",
    "\n",
    "And ignored years before 1980 or in the future (see the full test suite for the job [here](https://github.com/overview/osp/blob/develop/osp/test/dates/jobs/test_ext_semester.py#L41-131)). This produced **~500k** dates, or **42%** of the corpus:"
   ]
  },
  {
   "cell_type": "code",
   "execution_count": 38,
   "metadata": {
    "collapsed": false
   },
   "outputs": [
    {
     "name": "stdout",
     "output_type": "stream",
     "text": [
      "499098\n",
      "42.400321465556715\n"
     ]
    }
   ],
   "source": [
    "from osp.dates.models.semester import Document_Date_Semester\n",
    "semester_count = Document_Date_Semester.select().count()\n",
    "\n",
    "print(semester_count)\n",
    "print((semester_count / doc_count) * 100)"
   ]
  },
  {
   "cell_type": "markdown",
   "metadata": {},
   "source": [
    "###  Combined date coverage\n",
    "\n",
    "To get the total number of documents with a date from at least one of the three methods, we can just take the union of the document ids. This gives **1,118,542** unique documents, or **~95%** of the corpus:"
   ]
  },
  {
   "cell_type": "code",
   "execution_count": 49,
   "metadata": {
    "collapsed": false
   },
   "outputs": [
    {
     "name": "stdout",
     "output_type": "stream",
     "text": [
      "1118542\n",
      "95.02450495238759\n"
     ]
    }
   ],
   "source": [
    "# For each method, get the set of ids for the syllabi that were matched.\n",
    "archive_url_ids = [row._data['document'] for row in Document_Date_Archive_Url.select()]\n",
    "file_metadata_ids = [row._data['document'] for row in Document_Date_File_Metadata.select()]\n",
    "semester_ids = [row._data['document'] for row in Document_Date_Semester.select()]\n",
    "\n",
    "# Take the union of the three lists.\n",
    "ids = set()\n",
    "ids.update(archive_url_ids, file_metadata_ids, semester_ids)\n",
    "date_count = len(ids)\n",
    "\n",
    "print(date_count)\n",
    "print((date_count / doc_count) * 100)"
   ]
  },
  {
   "cell_type": "markdown",
   "metadata": {},
   "source": [
    "# Date distributions\n",
    "---\n",
    "\n",
    "Next, I wanted to get an intuitive sense of how the dates distribute for each of the three methods. First, a function to generate a histogram, given a list of dates:"
   ]
  },
  {
   "cell_type": "code",
   "execution_count": 115,
   "metadata": {
    "collapsed": true
   },
   "outputs": [],
   "source": [
    "%matplotlib inline\n",
    "from datetime import datetime\n",
    "from matplotlib.dates import YearLocator, DateFormatter, epoch2num, date2num\n",
    "import matplotlib.pyplot as plt\n",
    "import numpy as np\n",
    "\n",
    "def date_histogram(dates):\n",
    "    \n",
    "    \"\"\"\n",
    "    Print a histogram of dates.\n",
    "    \n",
    "    Args:\n",
    "        dates (list): A list of epoch2num dates.\n",
    "    \"\"\"\n",
    "    \n",
    "    (hist, edges) = np.histogram(archive_url_dates, 100,)\n",
    "    width = edges[1] - edges[0]\n",
    "\n",
    "    fig = plt.figure(figsize=(10, 5))\n",
    "    color = '#0067a2'\n",
    "\n",
    "    # X-axis scaling.\n",
    "    ax = fig.add_subplot(111)\n",
    "    ax.bar(edges[:-1], hist/width, width=width, color=color)\n",
    "    ax.set_xlim(edges[0], date2num(datetime.now()))\n",
    "\n",
    "    # X-axis formatting.\n",
    "    ax.xaxis.set_major_locator(YearLocator())\n",
    "    ax.xaxis.set_major_formatter(DateFormatter('%Y'))\n",
    "\n",
    "    plt.show()"
   ]
  },
  {
   "cell_type": "markdown",
   "metadata": {},
   "source": [
    "### Internet Archive URL distribution"
   ]
  },
  {
   "cell_type": "code",
   "execution_count": 114,
   "metadata": {
    "collapsed": false,
    "scrolled": true
   },
   "outputs": [
    {
     "data": {
      "image/png": "[encoded data removed]",
      "text/plain": [
       "<matplotlib.figure.Figure at 0x118432978>"
      ]
     },
     "metadata": {},
     "output_type": "display_data"
    }
   ],
   "source": [
    "archive_url_dates = [epoch2num(row.date.timestamp()) for row in Document_Date_Archive_Url.select()]\n",
    "date_histogram(archive_url_dates)"
   ]
  }
 ],
 "metadata": {
  "kernelspec": {
   "display_name": "Python 3",
   "language": "python",
   "name": "python3"
  },
  "language_info": {
   "codemirror_mode": {
    "name": "ipython",
    "version": 3
   },
   "file_extension": ".py",
   "mimetype": "text/x-python",
   "name": "python",
   "nbconvert_exporter": "python",
   "pygments_lexer": "ipython3",
   "version": "3.4.1"
  }
 },
 "nbformat": 4,
 "nbformat_minor": 0
}
